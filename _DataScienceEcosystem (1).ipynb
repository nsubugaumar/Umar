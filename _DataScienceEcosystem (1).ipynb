{
 "cells": [
  {
   "cell_type": "markdown",
   "id": "945bcb30-f7a1-4b63-b572-30c9cc47e0eb",
   "metadata": {},
   "source": [
    "# Data Science Tools and Ecosystem\n"
   ]
  },
  {
   "cell_type": "markdown",
   "id": "10030e57-0551-4285-9521-8eaa9f9454a8",
   "metadata": {},
   "source": [
    "## Author\n",
    "UMAR NSUBUGA "
   ]
  },
  {
   "cell_type": "markdown",
   "id": "a5e2fa68-1df9-4ce1-8099-accb67d5cb86",
   "metadata": {},
   "source": [
    "In this notebook, Data Science Tools and Ecosystem are summarized."
   ]
  },
  {
   "cell_type": "markdown",
   "id": "b1ab990f-a050-4319-b0a1-9cce4840bf66",
   "metadata": {},
   "source": [
    "COMMONLY USED LANGUAGES OF DATA SCIENCE\n",
    "1. python\n",
    "2. r\n",
    "3. sql"
   ]
  },
  {
   "cell_type": "markdown",
   "id": "ece7c453-e8ec-4641-bef9-fc53671ed013",
   "metadata": {},
   "source": [
    "COMMONLY USED LABRARIES FPR DATA SCIENTISTS\n",
    "* pandas\n",
    "* numpy\n",
    "* matplotlib\n",
    "* seaborn\n",
    "  \n",
    "\n"
   ]
  },
  {
   "cell_type": "markdown",
   "id": "da1772da-84b1-42ee-a876-26cf22c30681",
   "metadata": {},
   "source": [
    "|Data Science Tool|\n",
    "|-----------------|\n",
    "| Jupyter Notebook|         \n",
    "| RStudio         |         \n",
    "| Apache Zeppelin |"
   ]
  },
  {
   "cell_type": "markdown",
   "id": "7653ba7d-70f9-40a2-aaf0-f7a428e18622",
   "metadata": {},
   "source": [
    "Below are a few examples of evaluating arithmetic expressions in Python"
   ]
  },
  {
   "cell_type": "code",
   "execution_count": 4,
   "id": "4392b021-b8d7-4533-aae7-7c1daf725e26",
   "metadata": {},
   "outputs": [
    {
     "data": {
      "text/plain": [
       "17"
      ]
     },
     "execution_count": 4,
     "metadata": {},
     "output_type": "execute_result"
    }
   ],
   "source": [
    "#This a simple arithmetic expression to mutiply then add integers\n",
    "(3*4)+5"
   ]
  },
  {
   "cell_type": "code",
   "execution_count": 6,
   "id": "6d42bce9-fc30-4bce-aa44-6cd7b0882f66",
   "metadata": {},
   "outputs": [
    {
     "data": {
      "text/plain": [
       "3.3333333333333335"
      ]
     },
     "execution_count": 6,
     "metadata": {},
     "output_type": "execute_result"
    }
   ],
   "source": [
    "#200 minutes into hours\n",
    "#This will convert 200 minutes to hours by diving by 60\n",
    "200/60"
   ]
  },
  {
   "cell_type": "markdown",
   "id": "7dc85dff-67d9-4b47-b010-1c5f1653ab63",
   "metadata": {},
   "source": [
    " **OBJECTIVES**\n",
    "- List popular languages for Data Science  \n",
    "- Identify commonly used Data Science tools  - - Create and format Markdown cells in a Jupyter Notebook\r\n",
    "- Understand how to organize content using headings and lists  \r\n",
    "- Build simple tables using Maerkdown\n"
   ]
  },
  {
   "cell_type": "code",
   "execution_count": null,
   "id": "31acc02b-9ef8-41ab-af66-77bd382761a6",
   "metadata": {},
   "outputs": [],
   "source": []
  }
 ],
 "metadata": {
  "kernelspec": {
   "display_name": "anaconda-panel-2023.05-py310",
   "language": "python",
   "name": "conda-env-anaconda-panel-2023.05-py310-py"
  },
  "language_info": {
   "codemirror_mode": {
    "name": "ipython",
    "version": 3
   },
   "file_extension": ".py",
   "mimetype": "text/x-python",
   "name": "python",
   "nbconvert_exporter": "python",
   "pygments_lexer": "ipython3",
   "version": "3.11.5"
  }
 },
 "nbformat": 4,
 "nbformat_minor": 5
}
